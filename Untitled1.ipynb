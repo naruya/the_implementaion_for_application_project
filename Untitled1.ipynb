{
 "cells": [
  {
   "cell_type": "code",
   "execution_count": 1,
   "metadata": {
    "collapsed": true
   },
   "outputs": [],
   "source": [
    "import pandas as pd\n",
    "import numpy as np\n",
    "import matplotlib.pyplot as plt\n",
    "\n",
    "df = pd.read_csv(\"fukushima_wind.csv\") # 南北U、東西、34年分、6時間ごと"
   ]
  },
  {
   "cell_type": "code",
   "execution_count": 2,
   "metadata": {
    "collapsed": false
   },
   "outputs": [
    {
     "name": "stdout",
     "output_type": "stream",
     "text": [
      "[ 7.24168379  8.24440314 11.00176593 11.39765441  9.62089363]\n",
      "[ 7.67353453  8.73605006 11.65784549 12.07734239 10.19462622]\n"
     ]
    }
   ],
   "source": [
    "X = np.array(df)\n",
    "X = X[2:] # 最初の2行は要らない\n",
    "V = np.power(np.sum(np.power(X, 2), 1), 0.5) # 地上10mでの風速\n",
    "print(V[:5])\n",
    "V = (15./10.)**(1.0/7.0)*V # 地上15mでの風速\n",
    "print(V[:5])"
   ]
  },
  {
   "cell_type": "code",
   "execution_count": 3,
   "metadata": {
    "collapsed": true
   },
   "outputs": [],
   "source": [
    "rank = np.where(V>16.98, 4, np.where(V>10.0, 3, np.where(V>8.15, 2, np.where(V>2.72, 1, 0))))"
   ]
  },
  {
   "cell_type": "code",
   "execution_count": 4,
   "metadata": {
    "collapsed": false
   },
   "outputs": [
    {
     "data": {
      "text/html": [
       "<div>\n",
       "<style scoped>\n",
       "    .dataframe tbody tr th:only-of-type {\n",
       "        vertical-align: middle;\n",
       "    }\n",
       "\n",
       "    .dataframe tbody tr th {\n",
       "        vertical-align: top;\n",
       "    }\n",
       "\n",
       "    .dataframe thead th {\n",
       "        text-align: right;\n",
       "    }\n",
       "</style>\n",
       "<table border=\"1\" class=\"dataframe\">\n",
       "  <thead>\n",
       "    <tr style=\"text-align: right;\">\n",
       "      <th></th>\n",
       "      <th>0</th>\n",
       "      <th>1</th>\n",
       "      <th>2</th>\n",
       "      <th>3</th>\n",
       "      <th>4</th>\n",
       "    </tr>\n",
       "  </thead>\n",
       "  <tbody>\n",
       "    <tr>\n",
       "      <th>0</th>\n",
       "      <td>1838.0</td>\n",
       "      <td>3544.0</td>\n",
       "      <td>141.0</td>\n",
       "      <td>86.0</td>\n",
       "      <td>2.0</td>\n",
       "    </tr>\n",
       "    <tr>\n",
       "      <th>1</th>\n",
       "      <td>3647.0</td>\n",
       "      <td>22255.0</td>\n",
       "      <td>2650.0</td>\n",
       "      <td>1586.0</td>\n",
       "      <td>18.0</td>\n",
       "    </tr>\n",
       "    <tr>\n",
       "      <th>2</th>\n",
       "      <td>88.0</td>\n",
       "      <td>2940.0</td>\n",
       "      <td>1945.0</td>\n",
       "      <td>1623.0</td>\n",
       "      <td>31.0</td>\n",
       "    </tr>\n",
       "    <tr>\n",
       "      <th>3</th>\n",
       "      <td>37.0</td>\n",
       "      <td>1408.0</td>\n",
       "      <td>1871.0</td>\n",
       "      <td>6320.0</td>\n",
       "      <td>322.0</td>\n",
       "    </tr>\n",
       "    <tr>\n",
       "      <th>4</th>\n",
       "      <td>1.0</td>\n",
       "      <td>9.0</td>\n",
       "      <td>20.0</td>\n",
       "      <td>343.0</td>\n",
       "      <td>227.0</td>\n",
       "    </tr>\n",
       "  </tbody>\n",
       "</table>\n",
       "</div>"
      ],
      "text/plain": [
       "        0        1       2       3      4\n",
       "0  1838.0   3544.0   141.0    86.0    2.0\n",
       "1  3647.0  22255.0  2650.0  1586.0   18.0\n",
       "2    88.0   2940.0  1945.0  1623.0   31.0\n",
       "3    37.0   1408.0  1871.0  6320.0  322.0\n",
       "4     1.0      9.0    20.0   343.0  227.0"
      ]
     },
     "execution_count": 4,
     "metadata": {},
     "output_type": "execute_result"
    }
   ],
   "source": [
    "markov = np.zeros([5,5])\n",
    "pre_rank = rank[0]\n",
    "\n",
    "for t in range(1, len(rank)):\n",
    "    temp_rank = rank[t]\n",
    "    markov[pre_rank, temp_rank] += 1\n",
    "    pre_rank = temp_rank\n",
    "\n",
    "pd.DataFrame(markov) # 可視化"
   ]
  },
  {
   "cell_type": "code",
   "execution_count": 5,
   "metadata": {
    "collapsed": false
   },
   "outputs": [
    {
     "name": "stdout",
     "output_type": "stream",
     "text": [
      "[1. 1. 1. 1. 1.]\n"
     ]
    },
    {
     "data": {
      "text/html": [
       "<div>\n",
       "<style scoped>\n",
       "    .dataframe tbody tr th:only-of-type {\n",
       "        vertical-align: middle;\n",
       "    }\n",
       "\n",
       "    .dataframe tbody tr th {\n",
       "        vertical-align: top;\n",
       "    }\n",
       "\n",
       "    .dataframe thead th {\n",
       "        text-align: right;\n",
       "    }\n",
       "</style>\n",
       "<table border=\"1\" class=\"dataframe\">\n",
       "  <thead>\n",
       "    <tr style=\"text-align: right;\">\n",
       "      <th></th>\n",
       "      <th>0</th>\n",
       "      <th>1</th>\n",
       "      <th>2</th>\n",
       "      <th>3</th>\n",
       "      <th>4</th>\n",
       "    </tr>\n",
       "  </thead>\n",
       "  <tbody>\n",
       "    <tr>\n",
       "      <th>0</th>\n",
       "      <td>0.327571</td>\n",
       "      <td>0.631616</td>\n",
       "      <td>0.025129</td>\n",
       "      <td>0.015327</td>\n",
       "      <td>0.000356</td>\n",
       "    </tr>\n",
       "    <tr>\n",
       "      <th>1</th>\n",
       "      <td>0.120938</td>\n",
       "      <td>0.737996</td>\n",
       "      <td>0.087876</td>\n",
       "      <td>0.052593</td>\n",
       "      <td>0.000597</td>\n",
       "    </tr>\n",
       "    <tr>\n",
       "      <th>2</th>\n",
       "      <td>0.013279</td>\n",
       "      <td>0.443640</td>\n",
       "      <td>0.293496</td>\n",
       "      <td>0.244907</td>\n",
       "      <td>0.004678</td>\n",
       "    </tr>\n",
       "    <tr>\n",
       "      <th>3</th>\n",
       "      <td>0.003716</td>\n",
       "      <td>0.141394</td>\n",
       "      <td>0.187889</td>\n",
       "      <td>0.634666</td>\n",
       "      <td>0.032336</td>\n",
       "    </tr>\n",
       "    <tr>\n",
       "      <th>4</th>\n",
       "      <td>0.001667</td>\n",
       "      <td>0.015000</td>\n",
       "      <td>0.033333</td>\n",
       "      <td>0.571667</td>\n",
       "      <td>0.378333</td>\n",
       "    </tr>\n",
       "  </tbody>\n",
       "</table>\n",
       "</div>"
      ],
      "text/plain": [
       "          0         1         2         3         4\n",
       "0  0.327571  0.631616  0.025129  0.015327  0.000356\n",
       "1  0.120938  0.737996  0.087876  0.052593  0.000597\n",
       "2  0.013279  0.443640  0.293496  0.244907  0.004678\n",
       "3  0.003716  0.141394  0.187889  0.634666  0.032336\n",
       "4  0.001667  0.015000  0.033333  0.571667  0.378333"
      ]
     },
     "execution_count": 5,
     "metadata": {},
     "output_type": "execute_result"
    }
   ],
   "source": [
    "markov = markov / np.sum(markov, 1).reshape(-1,1) # 行で正規化\n",
    "print(np.sum(markov, 1)) # 確率の和が1になっていることを確認\n",
    "pd.DataFrame(markov) # 可視化"
   ]
  },
  {
   "cell_type": "code",
   "execution_count": 6,
   "metadata": {
    "collapsed": false
   },
   "outputs": [
    {
     "name": "stdout",
     "output_type": "stream",
     "text": [
      "[3.27570843e-01 6.31616468e-01 2.51292105e-02 1.53270362e-02\n",
      " 3.56442702e-04]\n"
     ]
    },
    {
     "ename": "NameError",
     "evalue": "name 'hist' is not defined",
     "output_type": "error",
     "traceback": [
      "\u001b[0;31m---------------------------------------------------------------------------\u001b[0m",
      "\u001b[0;31mNameError\u001b[0m                                 Traceback (most recent call last)",
      "\u001b[0;32m<ipython-input-6-16205af6bcdf>\u001b[0m in \u001b[0;36m<module>\u001b[0;34m()\u001b[0m\n\u001b[1;32m      9\u001b[0m         \u001b[0mhist\u001b[0m\u001b[0;34m.\u001b[0m\u001b[0mextend\u001b[0m\u001b[0;34m(\u001b[0m\u001b[0;34m[\u001b[0m\u001b[0mtemp\u001b[0m\u001b[0;34m,\u001b[0m\u001b[0mtemp\u001b[0m\u001b[0;34m]\u001b[0m\u001b[0;34m)\u001b[0m\u001b[0;34m\u001b[0m\u001b[0m\n\u001b[1;32m     10\u001b[0m     \u001b[0;32mreturn\u001b[0m \u001b[0mnp\u001b[0m\u001b[0;34m.\u001b[0m\u001b[0marray\u001b[0m\u001b[0;34m(\u001b[0m\u001b[0mhist\u001b[0m\u001b[0;34m)\u001b[0m\u001b[0;34m\u001b[0m\u001b[0m\n\u001b[0;32m---> 11\u001b[0;31m \u001b[0mprint\u001b[0m\u001b[0;34m(\u001b[0m\u001b[0mhist\u001b[0m\u001b[0;34m.\u001b[0m\u001b[0mshape\u001b[0m\u001b[0;34m)\u001b[0m\u001b[0;34m\u001b[0m\u001b[0m\n\u001b[0m",
      "\u001b[0;31mNameError\u001b[0m: name 'hist' is not defined"
     ]
    }
   ],
   "source": [
    "print(markov[0])\n",
    "\n",
    "# 3時間ごとの遷移を生成するので、2回分ずつappendしている\n",
    "def make_hist():\n",
    "    hist = [0,0]\n",
    "    for t in range(20*365*4-1):\n",
    "        pre = hist[-1]\n",
    "        temp = np.random.choice(np.arange(5), p=markov[pre])\n",
    "        hist.extend([temp,temp])\n",
    "    return np.array(hist)\n",
    "print(hist.shape)"
   ]
  },
  {
   "cell_type": "code",
   "execution_count": 7,
   "metadata": {
    "collapsed": true
   },
   "outputs": [],
   "source": [
    "count_rank = []\n",
    "\n",
    "for i in range(100):\n",
    "    hist = make_hist()\n",
    "    _count_rank = np.zeros(5)\n",
    "    for k in range(5):\n",
    "        _count_rank[k] += np.sum(np.where(hist == k, 1, 0))\n",
    "    count_rank.append(_count_rank)"
   ]
  },
  {
   "cell_type": "code",
   "execution_count": 8,
   "metadata": {
    "collapsed": true
   },
   "outputs": [],
   "source": [
    "count_rank = np.array(count_rank)\n",
    "np.save(\"count_rank.npy\", count_rank)"
   ]
  },
  {
   "cell_type": "code",
   "execution_count": 9,
   "metadata": {
    "collapsed": true
   },
   "outputs": [],
   "source": [
    "hatudenryou = [rank_i[1]*6*1900+rank_i[2]*6*5000+rank_i[3]*6*5000 for rank_i in count_rank]"
   ]
  },
  {
   "cell_type": "code",
   "execution_count": 10,
   "metadata": {
    "collapsed": false
   },
   "outputs": [
    {
     "data": {
      "image/png": "[encoded data removed]",
      "text/plain": [
       "<Figure size 432x288 with 1 Axes>"
      ]
     },
     "metadata": {},
     "output_type": "display_data"
    }
   ],
   "source": [
    "# 3時間ごとの遷移を生成するので、2回分ずつappendしている\n",
    "hiruyoru = [1,1,1,1,0,0,0,0]*365*20\n",
    "hiruyoru = np.array(hiruyoru)\n",
    "plt.plot(hiruyoru[:100])\n",
    "plt.show()"
   ]
  },
  {
   "cell_type": "code",
   "execution_count": 11,
   "metadata": {
    "collapsed": false
   },
   "outputs": [
    {
     "name": "stdout",
     "output_type": "stream",
     "text": [
      "[0 0 1 1 1 1 0 0 0 0 0 0 0 0 1 1 1 1 1 1 1 1 1 1 1 1 0 0 1 1 1 1 1 1 1 1 2\n",
      " 2 2 2 1 1 1 1 2 2 1 1 1 1 1 1 1 1 1 1 1 1 0 0 1 1 2 2 2 2 2 2 1 1 1 1 1 1\n",
      " 1 1 0 0 0 0 1 1 3 3 3 3 3 3 3 3 1 1 0 0 1 1 2 2 2 2]\n",
      "[1 1 1 1 1 1 1 1 1 1 1 1 1 1 1 1 1 1 1 1 1 1 1 1 1 1 1 1 1 1 1 1 1 1 1 1 1\n",
      " 1 1 1 1 1 1 1 1 1 1 1 1 1 1 1 1 1 1 1 1 1 1 1 1 1 1 1 1 1 1 1 1 1 1 1 1 1\n",
      " 1 1 1 1 1 1 1 1 0 0 0 0 0 0 0 0 1 1 1 1 1 1 1 1 1 1]\n",
      "[1 1 1 1 0 0 0 0 1 1 1 1 0 0 0 0 1 1 1 1 0 0 0 0 1 1 1 1 0 0 0 0 1 1 1 1 0\n",
      " 0 0 0 1 1 1 1 0 0 0 0 1 1 1 1 0 0 0 0 1 1 1 1 0 0 0 0 1 1 1 1 0 0 0 0 1 1\n",
      " 1 1 0 0 0 0 1 1 1 1 0 0 0 0 1 1 1 1 0 0 0 0 1 1 1 1]\n"
     ]
    }
   ],
   "source": [
    "hist = make_hist()\n",
    "print(hist[:100])\n",
    "\n",
    "a = np.where(hist>=3, 0, 1)\n",
    "print(a[:100])\n",
    "print(hiruyoru[:100])"
   ]
  },
  {
   "cell_type": "code",
   "execution_count": 12,
   "metadata": {
    "collapsed": false
   },
   "outputs": [
    {
     "data": {
      "image/png": "[encoded data removed]",
      "text/plain": [
       "<Figure size 432x288 with 1 Axes>"
      ]
     },
     "metadata": {},
     "output_type": "display_data"
    }
   ],
   "source": [
    "tenken = a & hiruyoru\n",
    "plt.plot(tenken[:100])\n",
    "plt.show()"
   ]
  },
  {
   "cell_type": "code",
   "execution_count": 13,
   "metadata": {
    "collapsed": true
   },
   "outputs": [],
   "source": [
    "# ship 一台。\n",
    "# 風直発電基5台\n",
    "\n",
    "# 3時間ごと ステップ数\n",
    "T = int(20*365*(24/3)) # 29200\n",
    "N_wf = 5\n",
    "\n",
    "ship = np.zeros(shape=(T, N_wf)) # ship(t,k): 時間t,発電機kに船がいるか。いる時1いない時0 # (29200, 5)\n",
    "hist = np.array([make_hist() for _ in range(N_wf)]).T # hist(t,k): 時間t, 発電機kの風の階級, # (29200, 5)"
   ]
  },
  {
   "cell_type": "code",
   "execution_count": null,
   "metadata": {
    "collapsed": true
   },
   "outputs": [],
   "source": [
    "import random\n",
    "\n",
    "kosho_prob = 0.2/365/(24/3)\n",
    "\n",
    "# 時間の単位は3時間にする\n",
    "class Windfarm():\n",
    "    def __init__(self, k): # kは発電機の番号。これだけ覚えてといてもらう\n",
    "        self.k = k\n",
    "\n",
    "        self.need_shuri = False\n",
    "        self.need_tenken = True\n",
    "        self.shuriing_time = 0 # 進捗\n",
    "        self.tenkening_time = 0 # 点検の作業にかけた時間\n",
    "        self.wait_tenken_time = 0 # 最後の点検から点検を待っている時間\n",
    "\n",
    "        self.hatsuden = 0\n",
    "        self.is_running = True\n",
    "\n",
    "        # ふねがいるかどうか\n",
    "        self.there_is_ship = False\n",
    "  \n",
    "   def  check_hatsuden(self, t): # 時刻を受け取る\n",
    "\n",
    "    k = self.k\n",
    "    if self.need_shuri == False & self.need_tenken == False:\n",
    "        if hist[t,k]==1: # histはglobal変数\n",
    "            self.hatsuden = self.hatsuden + 6*1900\n",
    "        elif hist[t,k] == 2 | hist[t,k] == 3:\n",
    "            self.hatsuden = self.hatsuden + 6*5000\n",
    "\n",
    "    def check_need_shuri(self, t):\n",
    "    if self.need_shuri == 0:\n",
    "\n",
    "      kosho = np.random.choice([0,1], p=[1-kosho_prob, kosho_prob])\n",
    "      if kosho == 1:\n",
    "          self.need_shuri = True\n",
    "          \n",
    "          print(\"time\",t,\"breakdown!\")\n",
    "\n",
    "  # 点検が必要かどうか\n",
    "  def check_need_tenken(self, t):\n",
    "    if self.wait_tenken_time == 4320:\n",
    "      self.need_tenken = True\n",
    "      self.wait_tenken_time = 0\n",
    "      print(\"time\",t,\"stop!\")\n",
    "      \n",
    "    else:\n",
    "      self.wait_tenken_time += 3\n",
    "      \n",
    "\n",
    "  # 修理が終わったか\n",
    "  def check_finish_shuri(self, t):\n",
    "    if self.need_shuri:\n",
    "      if self.shuriing_time == 120:\n",
    "        self.need_shuri = False\n",
    "        self.shuriing_time = 0\n",
    "        print(\"finish shuri!!\")\n",
    "\n",
    "  # 点検が終わったか\n",
    "  def check_finish_tenken(self, t):   \n",
    "    if self.need_tenken:\n",
    "      if self.tenkening_time == 36:\n",
    "        self.need_tenken = False\n",
    "        self.tenkening_time = 0\n",
    "        print(\"finish tenken!!\")\n",
    "\n",
    "  # 修理を始めてからどのくらい時間が経過したか\n",
    "  def update_shuriing_time(self, t):\n",
    "    if self.need_shuri:\n",
    "      self.shuriing_time += self.there_is_ship * tenken[t] * 3\n",
    "      print(\"shuriing_time\", self.shuriing_time)\n",
    "    \n",
    "  # 点検を始めてからどのくらい時間が経過したか\n",
    "  def update_tenkening_time(self, t):\n",
    "    if self.need_tenken:\n",
    "      self.tenkening_time += self.there_is_ship * tenken[t] * 3\n",
    "      print(\"tenkening_time\", self.tenkening_time)\n",
    "    \n",
    "#         #点検が必要なら1、必要なければ0\n",
    "#     if need_tenken:\n",
    "#         ship.append(1)\n",
    "#     elif need_shuri:\n",
    "#         ship.append(1)\n",
    "#     else:\n",
    "#         ship.append(0)\n"
   ]
  }
 ],
 "metadata": {
  "kernelspec": {
   "display_name": "Python3-asr",
   "language": "python",
   "name": "py35_tf"
  },
  "language_info": {
   "codemirror_mode": {
    "name": "ipython",
    "version": 3
   },
   "file_extension": ".py",
   "mimetype": "text/x-python",
   "name": "python",
   "nbconvert_exporter": "python",
   "pygments_lexer": "ipython3",
   "version": "3.5.5"
  }
 },
 "nbformat": 4,
 "nbformat_minor": 2
}
