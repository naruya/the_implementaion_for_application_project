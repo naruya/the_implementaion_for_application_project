{
 "cells": [
  {
   "cell_type": "code",
   "execution_count": 1,
   "metadata": {},
   "outputs": [
    {
     "name": "stderr",
     "output_type": "stream",
     "text": [
      "/home/nama/.pyenv/versions/3.6.6/lib/python3.6/importlib/_bootstrap.py:219: RuntimeWarning: numpy.dtype size changed, may indicate binary incompatibility. Expected 96, got 88\n",
      "  return f(*args, **kwds)\n"
     ]
    }
   ],
   "source": [
    "import numpy as np\n",
    "import matplotlib.pyplot as plt\n",
    "import sys\n",
    "from tqdm import tqdm\n",
    "\n",
    "from environment_data import Environment\n",
    "from windfarm_state import Windfarm_state\n",
    "from ship_plan import Ship_plan\n",
    "\n",
    "from collections import OrderedDict\n",
    "\n",
    "total_step_by_three_hour = int(20*365*(24/3))      ############ とりま5年分！\n",
    "total_number_of_ships = 6\n",
    "\n",
    "def sim(actor_i):\n",
    "    \n",
    "    prefix = \"[I actor\" + str(actor_i) + \"] \"\n",
    "    print(prefix+\"read environment ...\")\n",
    "    print(prefix+\"construct windfarm_state ...\")\n",
    "    print(prefix+\"construct ship_plan ...\")\n",
    "\n",
    "    wind_hist = np.load(\"data/wind_hist.npy\")\n",
    "    can_work = np.load(\"data/can_work.npy\")\n",
    "    broken_program = np.load(\"data/broken_program.npy\")\n",
    "\n",
    "    environment = Environment(data=(wind_hist, can_work, broken_program))\n",
    "    windfarm_state = Windfarm_state(environment)\n",
    "    ship_plan = Ship_plan(total_number_of_ships, environment, windfarm_state)\n",
    "    \n",
    "    need_inspection_list = []\n",
    "    need_repair_list = []\n",
    "    total_generated_power = []\n",
    "\n",
    "    for t in range(total_step_by_three_hour):\n",
    "        ship_plan.time_step(t)\n",
    "        windfarm_state.time_step(t)\n",
    "\n",
    "        need_inspection_list.append(sum(windfarm_state.check_need_inspection_all()))\n",
    "        need_repair_list.append(sum(windfarm_state.check_need_repair_all()))\n",
    "        total_generated_power.append(windfarm_state.total_calc_generated_kwh())\n",
    "\n",
    "        need_repair_all = np.array(windfarm_state.check_need_repair_all())\n",
    "        there_is_ship_all = np.array(windfarm_state.check_there_is_ship_all())\n",
    "        time_from_last_inspection_all = np.array(windfarm_state.check_time_from_last_inspection_all())\n",
    "\n",
    "        # 戦略3から引っぱってきてる\n",
    "        w_repair = sum(need_repair_all & ~there_is_ship_all)/5 # max5かなっていう # どれだけ故障を許容するかが鍵？\n",
    "        w_inspection = np.mean(time_from_last_inspection_all)/2160 # max2160かなっていう\n",
    "        p_repair = w_repair / (w_repair + w_inspection + 1e-12)\n",
    "\n",
    "        if t % (365*8) == 0:\n",
    "            print(prefix+\"t:\",int(t/(365*8)), \", total_pow:\", total_generated_power[-1])\n",
    "\n",
    "    print(prefix+\"total_calc_generated_kwh: {:,}\".format(windfarm_state.total_calc_generated_kwh()))\n",
    "    print(prefix+\"total_driving_cost: {:,}\".format(ship_plan.total_driving_cost))\n",
    "    print(prefix+\"repayment cost: {:,}\".format(400000000 * total_number_of_ships))\n",
    "    print(prefix+\"total_profit: {:,}\".format(windfarm_state.total_calc_generated_kwh() -\n",
    "                          ship_plan.total_driving_cost - 400000000 *\n",
    "                          total_number_of_ships))"
   ]
  },
  {
   "cell_type": "code",
   "execution_count": 2,
   "metadata": {},
   "outputs": [
    {
     "name": "stdout",
     "output_type": "stream",
     "text": [
      "[I actor0] read environment ...\n",
      "[I actor0] construct windfarm_state ...\n",
      "[I actor0] construct ship_plan ...\n",
      "[I actor0] t: 0 , total_pow: 0\n",
      "[I actor0] t: 1 , total_pow: 243889358400\n",
      "[I actor0] t: 2 , total_pow: 479776219200\n",
      "[I actor0] t: 3 , total_pow: 718684099200\n",
      "[I actor0] t: 4 , total_pow: 947144836800\n",
      "[I actor0] t: 5 , total_pow: 1186780312800\n",
      "[I actor0] t: 6 , total_pow: 1422122702400\n",
      "[I actor0] t: 7 , total_pow: 1670132131200\n",
      "[I actor0] t: 8 , total_pow: 1916405071200\n",
      "[I actor0] t: 9 , total_pow: 2147444265600\n",
      "[I actor0] t: 10 , total_pow: 2365822857600\n",
      "[I actor0] t: 11 , total_pow: 2594779272000\n",
      "[I actor0] t: 12 , total_pow: 2831800500000\n",
      "[I actor0] t: 13 , total_pow: 3052336802400\n",
      "[I actor0] t: 14 , total_pow: 3298544769600\n",
      "[I actor0] t: 15 , total_pow: 3532245991200\n",
      "[I actor0] t: 16 , total_pow: 3772133863200\n",
      "[I actor0] t: 17 , total_pow: 4000090780800\n",
      "[I actor0] t: 18 , total_pow: 4247602502400\n",
      "[I actor0] t: 19 , total_pow: 4495837348800\n",
      "[I actor0] total_calc_generated_kwh: 4,734,635,025,600\n",
      "[I actor0] total_driving_cost: 27,374,250,000\n",
      "[I actor0] repayment cost: 2,400,000,000\n",
      "[I actor0] total_profit: 4,704,860,775,600\n"
     ]
    }
   ],
   "source": [
    "sim(0)"
   ]
  },
  {
   "cell_type": "code",
   "execution_count": 3,
   "metadata": {
    "scrolled": false
   },
   "outputs": [
    {
     "name": "stdout",
     "output_type": "stream",
     "text": [
      "[I actor0] read environment ...\n",
      "[I actor0] construct windfarm_state ...\n",
      "[I actor0] construct ship_plan ...\n",
      "[I actor1] read environment ...[I actor2] read environment ...\n",
      "[I actor1] construct windfarm_state ...\n",
      "\n",
      "[I actor2] construct windfarm_state ...\n",
      "[I actor2] construct ship_plan ...\n",
      "[I actor1] construct ship_plan ...\n",
      "[I actor3] read environment ...\n",
      "[I actor3] construct windfarm_state ...\n",
      "[I actor3] construct ship_plan ...\n",
      "[I actor0] t: 0 , total_pow: 0\n",
      "[I actor2] t: 0 , total_pow:[I actor3] t: 0 , total_pow: 0\n",
      " 0\n",
      "[I actor1] t: 0 , total_pow: 0\n",
      "[I actor2] t: 1 , total_pow: 243889358400\n",
      "[I actor3] t: 1 , total_pow: 243889358400\n",
      "[I actor1] t: 1 , total_pow: 243889358400\n",
      "[I actor0] t: 1 , total_pow: 243889358400\n",
      "[I actor2] t: 2 , total_pow: 479776219200\n",
      "[I actor3] t: 2 , total_pow: 479776219200\n",
      "[I actor0] t: 2 , total_pow: 479776219200\n",
      "[I actor1] t: 2 , total_pow: 479776219200\n",
      "[I actor3] t: 3 , total_pow: 718684099200\n",
      "[I actor0] t: 3 , total_pow: 718684099200\n",
      "[I actor2] t: 3 , total_pow: 718684099200\n",
      "[I actor1] t: 3 , total_pow: 718684099200\n",
      "[I actor3] t: 4 , total_pow: 947144836800\n",
      "[I actor2] t: 4 , total_pow: 947144836800\n",
      "[I actor0] t: 4 , total_pow: 947144836800\n",
      "[I actor1] t: 4 , total_pow: 947144836800\n",
      "[I actor3] total_calc_generated_kwh: 1,186,700,695,200\n",
      "[I actor3] total_driving_cost: 6,843,750,000\n",
      "[I actor3] repayment cost: 2,400,000,000\n",
      "[I actor3] total_profit: 1,177,456,945,200\n",
      "[I actor0] total_calc_generated_kwh: 1,186,700,695,200\n",
      "[I actor0] total_driving_cost: 6,843,750,000\n",
      "[I actor0] repayment cost: 2,400,000,000\n",
      "[I actor0] total_profit: 1,177,456,945,200\n",
      "[I actor2] total_calc_generated_kwh: 1,186,700,695,200\n",
      "[I actor2] total_driving_cost: 6,843,750,000\n",
      "[I actor2] repayment cost: 2,400,000,000\n",
      "[I actor2] total_profit: 1,177,456,945,200\n",
      "[I actor1] total_calc_generated_kwh: 1,186,700,695,200\n",
      "[I actor1] total_driving_cost: 6,843,750,000\n",
      "[I actor1] repayment cost: 2,400,000,000\n",
      "[I actor1] total_profit: 1,177,456,945,200\n"
     ]
    }
   ],
   "source": [
    "N_actor = 4\n",
    "import concurrent.futures\n",
    "executor = concurrent.futures.ThreadPoolExecutor(max_workers=N_actor)\n",
    "\n",
    "for i in range(N_actor):\n",
    "    executor.submit(sim, i)"
   ]
  }
 ],
 "metadata": {
  "kernelspec": {
   "display_name": "Python 3",
   "language": "python",
   "name": "python3"
  },
  "language_info": {
   "codemirror_mode": {
    "name": "ipython",
    "version": 3
   },
   "file_extension": ".py",
   "mimetype": "text/x-python",
   "name": "python",
   "nbconvert_exporter": "python",
   "pygments_lexer": "ipython3",
   "version": "3.6.6"
  }
 },
 "nbformat": 4,
 "nbformat_minor": 2
}
