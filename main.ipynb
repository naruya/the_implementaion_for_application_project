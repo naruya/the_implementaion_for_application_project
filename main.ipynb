{
 "cells": [
  {
   "cell_type": "code",
   "execution_count": 1,
   "metadata": {},
   "outputs": [
    {
     "name": "stderr",
     "output_type": "stream",
     "text": [
      "/home/nama/.pyenv/versions/3.6.6/lib/python3.6/importlib/_bootstrap.py:219: RuntimeWarning: numpy.dtype size changed, may indicate binary incompatibility. Expected 96, got 88\n",
      "  return f(*args, **kwds)\n"
     ]
    }
   ],
   "source": [
    "import numpy as np\n",
    "import matplotlib.pyplot as plt\n",
    "import sys\n",
    "from tqdm import tqdm\n",
    "\n",
    "from environment_data import Environment\n",
    "from windfarm_state import Windfarm_state\n",
    "from ship_plan import Ship_plan\n",
    "\n",
    "from collections import OrderedDict\n",
    "\n",
    "total_step_by_three_hour = int(20*365*(24/3)    /    10)      ############ とりま5年分！\n",
    "total_number_of_ships = 6"
   ]
  },
  {
   "cell_type": "markdown",
   "metadata": {},
   "source": [
    "# 決め打ちするデータの読み込み\n",
    "- wind_power_rank, can_work, と故障"
   ]
  },
  {
   "cell_type": "code",
   "execution_count": 2,
   "metadata": {},
   "outputs": [],
   "source": [
    "def sim(actor_i):\n",
    "    \n",
    "    prefix = \"[I actor\" + str(actor_i) + \"] \"\n",
    "    print(prefix+\"read environment ...\")\n",
    "    print(prefix+\"construct windfarm_state ...\")\n",
    "    print(prefix+\"construct ship_plan ...\")\n",
    "\n",
    "    environment = Environment()\n",
    "    windfarm_state = Windfarm_state(environment)\n",
    "    ship_plan = Ship_plan(total_number_of_ships, environment, windfarm_state)\n",
    "    \n",
    "    need_inspection_list = []\n",
    "    need_repair_list = []\n",
    "    total_generated_power = []\n",
    "\n",
    "    for t in range(total_step_by_three_hour):\n",
    "        ship_plan.time_step(t)\n",
    "        windfarm_state.time_step(t)\n",
    "\n",
    "        need_inspection_list.append(sum(windfarm_state.check_need_inspection_all()))\n",
    "        need_repair_list.append(sum(windfarm_state.check_need_repair_all()))\n",
    "        total_generated_power.append(windfarm_state.total_calc_generated_kwh())\n",
    "\n",
    "        need_repair_all = np.array(windfarm_state.check_need_repair_all())\n",
    "        there_is_ship_all = np.array(windfarm_state.check_there_is_ship_all())\n",
    "        time_from_last_inspection_all = np.array(windfarm_state.check_time_from_last_inspection_all())\n",
    "\n",
    "        # 戦略3から引っぱってきてる\n",
    "        w_repair = sum(need_repair_all & ~there_is_ship_all)/5 # max5かなっていう # どれだけ故障を許容するかが鍵？\n",
    "        w_inspection = np.mean(time_from_last_inspection_all)/2160 # max2160かなっていう\n",
    "        p_repair = w_repair / (w_repair + w_inspection + 1e-12)\n",
    "\n",
    "        if t % (365*8) == 0:\n",
    "            print(prefix+\"t:\",int(t/(365*8)), \", total_pow:\", total_generated_power[-1])\n",
    "\n",
    "    print(prefix+\"total_calc_generated_kwh: {:,}\".format(windfarm_state.total_calc_generated_kwh()))\n",
    "    print(prefix+\"total_driving_cost: {:,}\".format(ship_plan.total_driving_cost))\n",
    "    print(prefix+\"repayment cost: {:,}\".format(400000000 * total_number_of_ships))\n",
    "    print(prefix+\"total_profit: {:,}\".format(windfarm_state.total_calc_generated_kwh() -\n",
    "                          ship_plan.total_driving_cost - 400000000 *\n",
    "                          total_number_of_ships))"
   ]
  },
  {
   "cell_type": "code",
   "execution_count": 3,
   "metadata": {},
   "outputs": [],
   "source": [
    "N_actor = 4\n",
    "import concurrent.futures\n",
    "executor = concurrent.futures.ThreadPoolExecutor(max_workers=N_actor)"
   ]
  },
  {
   "cell_type": "code",
   "execution_count": 4,
   "metadata": {},
   "outputs": [
    {
     "name": "stdout",
     "output_type": "stream",
     "text": [
      "[I actor0] read environment ...\n",
      "[I actor0] construct windfarm_state ...\n",
      "[I actor0] construct ship_plan ...\n",
      "[I actor1] read environment ...\n",
      "[I actor1] construct windfarm_state ...\n",
      "[I actor1] construct ship_plan ...\n",
      "[I actor2] read environment ...\n",
      "[I actor2] construct windfarm_state ...\n",
      "[I actor2] construct ship_plan ...\n",
      "[I actor3] read environment ...\n",
      "[I actor3] construct windfarm_state ...\n",
      "[I actor3] construct ship_plan ...\n",
      "[I actor3] t: 0 , total_pow: 0\n",
      "[I actor1] t: 0 , total_pow: 0\n",
      "[I actor2] t: 0 , total_pow: 0\n",
      "[I actor0] t: 0 , total_pow: 0\n",
      "[I actor0] t: 1 , total_pow: 242067376800\n",
      "[I actor2] t: 1 , total_pow: 236196756000\n",
      "[I actor3] t: 1 , total_pow: 249770908800\n",
      "[I actor1] t: 1 , total_pow: 235248343200\n",
      "[I actor2] total_calc_generated_kwh: 469,924,912,800\n",
      "[I actor2] total_driving_cost: 2,190,000,000\n",
      "[I actor2] repayment cost: 2,400,000,000\n",
      "[I actor2] total_profit: 465,334,912,800\n",
      "[I actor0] total_calc_generated_kwh: 487,739,534,400[I actor3] total_calc_generated_kwh: 488,341,742,400\n",
      "\n",
      "[I actor0] total_driving_cost: 2,190,000,000\n",
      "[I actor0] repayment cost: 2,400,000,000\n",
      "[I actor0] total_profit: 483,149,534,400\n",
      "[I actor3] total_driving_cost: 2,190,000,000\n",
      "[I actor3] repayment cost: 2,400,000,000\n",
      "[I actor3] total_profit: 483,751,742,400\n",
      "[I actor1] total_calc_generated_kwh: 481,504,435,200\n",
      "[I actor1] total_driving_cost: 2,190,000,000\n",
      "[I actor1] repayment cost: 2,400,000,000\n",
      "[I actor1] total_profit: 476,914,435,200\n"
     ]
    }
   ],
   "source": [
    "for i in range(N_actor):\n",
    "    executor.submit(sim, i)"
   ]
  },
  {
   "cell_type": "code",
   "execution_count": null,
   "metadata": {},
   "outputs": [],
   "source": []
  }
 ],
 "metadata": {
  "kernelspec": {
   "display_name": "Python 3",
   "language": "python",
   "name": "python3"
  },
  "language_info": {
   "codemirror_mode": {
    "name": "ipython",
    "version": 3
   },
   "file_extension": ".py",
   "mimetype": "text/x-python",
   "name": "python",
   "nbconvert_exporter": "python",
   "pygments_lexer": "ipython3",
   "version": "3.6.6"
  }
 },
 "nbformat": 4,
 "nbformat_minor": 2
}
