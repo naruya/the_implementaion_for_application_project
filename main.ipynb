{
 "cells": [
  {
   "cell_type": "code",
   "execution_count": 3,
   "metadata": {},
   "outputs": [],
   "source": [
    "import numpy as np\n",
    "import matplotlib.pyplot as plt\n",
    "import sys\n",
    "from tqdm import tqdm\n",
    "\n",
    "from environment_data import Environment\n",
    "from windfarm_state import Windfarm_state\n",
    "from ship_plan import Ship_plan\n",
    "\n",
    "from collections import OrderedDict\n",
    "\n",
    "total_step_by_three_hour = int(20*365*(24/3))      ############ X年分！\n",
    "total_number_of_ships = 6\n",
    "\n",
    "A = []\n",
    "\n",
    "def sim(actor_i):\n",
    "    \n",
    "    prefix = \"[I actor\" + str(actor_i) + \"] \"\n",
    "    print(prefix+\"read environment ...\")\n",
    "    print(prefix+\"construct windfarm_state ...\")\n",
    "    print(prefix+\"construct ship_plan ...\")\n",
    "\n",
    "#     wind_hist = np.load(\"data/wind_hist.npy\")\n",
    "#     can_work = np.load(\"data/can_work.npy\")\n",
    "#     broken_program = np.load(\"data/broken_program.npy\")\n",
    "\n",
    "    environment = Environment()\n",
    "#     environment = Environment(data=(wind_hist, can_work, broken_program))\n",
    "    windfarm_state = Windfarm_state(environment)\n",
    "    ship_plan = Ship_plan(total_number_of_ships, environment, windfarm_state)\n",
    "    \n",
    "    need_inspection_list = []\n",
    "    need_repair_list = []\n",
    "    total_generated_power = []\n",
    "\n",
    "    for t in range(total_step_by_three_hour):\n",
    "        ship_plan.time_step(t)\n",
    "        windfarm_state.time_step(t)\n",
    "\n",
    "        need_inspection_list.append(sum(windfarm_state.check_need_inspection_all()))\n",
    "        need_repair_list.append(sum(windfarm_state.check_need_repair_all()))\n",
    "        total_generated_power.append(windfarm_state.total_calc_generated_kwh())\n",
    "\n",
    "        need_repair_all = np.array(windfarm_state.check_need_repair_all())\n",
    "        there_is_ship_all = np.array(windfarm_state.check_there_is_ship_all())\n",
    "        time_from_last_inspection_all = np.array(windfarm_state.check_time_from_last_inspection_all())\n",
    "\n",
    "#         # 戦略3から引っぱってきてる\n",
    "#         w_repair = sum(need_repair_all & ~there_is_ship_all)/5 # max5かなっていう # どれだけ故障を許容するかが鍵？\n",
    "#         w_inspection = np.mean(time_from_last_inspection_all)/2160 # max2160かなっていう\n",
    "#         p_repair = w_repair / (w_repair + w_inspection + 1e-12)\n",
    "\n",
    "        if t % (365*8) == 0:\n",
    "            print(prefix+\"t:\",int(t/(365*8)), \", total_pow:\", total_generated_power[-1])\n",
    "            \n",
    "    A.append(windfarm_state.total_calc_generated_kwh() -\n",
    "             ship_plan.total_driving_cost - 400000000 *\n",
    "             total_number_of_ships)\n",
    "    \n",
    "    print(prefix+\"total_calc_generated_kwh: {:,}\".format(windfarm_state.total_calc_generated_kwh()))\n",
    "    print(prefix+\"total_driving_cost: {:,}\".format(ship_plan.total_driving_cost))\n",
    "    print(prefix+\"repayment cost: {:,}\".format(400000000 * total_number_of_ships))\n",
    "    print(prefix+\"total_profit: {:,}\".format(windfarm_state.total_calc_generated_kwh() -\n",
    "                          ship_plan.total_driving_cost - 400000000 *\n",
    "                          total_number_of_ships))"
   ]
  },
  {
   "cell_type": "code",
   "execution_count": null,
   "metadata": {},
   "outputs": [
    {
     "name": "stdout",
     "output_type": "stream",
     "text": [
      "[I actor0] read environment ...\n",
      "[I actor0] construct windfarm_state ...\n",
      "[I actor0] construct ship_plan ...\n",
      "[I actor0] t: 0 , total_pow: 0\n",
      "[I actor0] t: 1 , total_pow: 235299060000\n",
      "[I actor0] t: 2 , total_pow: 455557845600\n",
      "[I actor0] t: 3 , total_pow: 696340929600\n",
      "[I actor0] t: 4 , total_pow: 931223390400\n",
      "[I actor0] t: 5 , total_pow: 1159830230400\n"
     ]
    }
   ],
   "source": [
    "sim(0)"
   ]
  },
  {
   "cell_type": "code",
   "execution_count": 3,
   "metadata": {
    "scrolled": false
   },
   "outputs": [
    {
     "name": "stdout",
     "output_type": "stream",
     "text": [
      "[I actor0] read environment ...\n",
      "[I actor0] construct windfarm_state ...\n",
      "[I actor0] construct ship_plan ...\n",
      "[I actor1] read environment ...[I actor2] read environment ...\n",
      "[I actor1] construct windfarm_state ...\n",
      "\n",
      "[I actor2] construct windfarm_state ...\n",
      "[I actor2] construct ship_plan ...\n",
      "[I actor1] construct ship_plan ...\n",
      "[I actor3] read environment ...\n",
      "[I actor3] construct windfarm_state ...\n",
      "[I actor3] construct ship_plan ...\n",
      "[I actor0] t: 0 , total_pow: 0\n",
      "[I actor2] t: 0 , total_pow:[I actor3] t: 0 , total_pow: 0\n",
      " 0\n",
      "[I actor1] t: 0 , total_pow: 0\n",
      "[I actor2] t: 1 , total_pow: 243889358400\n",
      "[I actor3] t: 1 , total_pow: 243889358400\n",
      "[I actor1] t: 1 , total_pow: 243889358400\n",
      "[I actor0] t: 1 , total_pow: 243889358400\n",
      "[I actor2] t: 2 , total_pow: 479776219200\n",
      "[I actor3] t: 2 , total_pow: 479776219200\n",
      "[I actor0] t: 2 , total_pow: 479776219200\n",
      "[I actor1] t: 2 , total_pow: 479776219200\n",
      "[I actor3] t: 3 , total_pow: 718684099200\n",
      "[I actor0] t: 3 , total_pow: 718684099200\n",
      "[I actor2] t: 3 , total_pow: 718684099200\n",
      "[I actor1] t: 3 , total_pow: 718684099200\n",
      "[I actor3] t: 4 , total_pow: 947144836800\n",
      "[I actor2] t: 4 , total_pow: 947144836800\n",
      "[I actor0] t: 4 , total_pow: 947144836800\n",
      "[I actor1] t: 4 , total_pow: 947144836800\n",
      "[I actor3] total_calc_generated_kwh: 1,186,700,695,200\n",
      "[I actor3] total_driving_cost: 6,843,750,000\n",
      "[I actor3] repayment cost: 2,400,000,000\n",
      "[I actor3] total_profit: 1,177,456,945,200\n",
      "[I actor0] total_calc_generated_kwh: 1,186,700,695,200\n",
      "[I actor0] total_driving_cost: 6,843,750,000\n",
      "[I actor0] repayment cost: 2,400,000,000\n",
      "[I actor0] total_profit: 1,177,456,945,200\n",
      "[I actor2] total_calc_generated_kwh: 1,186,700,695,200\n",
      "[I actor2] total_driving_cost: 6,843,750,000\n",
      "[I actor2] repayment cost: 2,400,000,000\n",
      "[I actor2] total_profit: 1,177,456,945,200\n",
      "[I actor1] total_calc_generated_kwh: 1,186,700,695,200\n",
      "[I actor1] total_driving_cost: 6,843,750,000\n",
      "[I actor1] repayment cost: 2,400,000,000\n",
      "[I actor1] total_profit: 1,177,456,945,200\n"
     ]
    }
   ],
   "source": [
    "A = 0\n",
    "\n",
    "N_actor = 4\n",
    "import concurrent.futures\n",
    "executor = concurrent.futures.ThreadPoolExecutor(max_workers=N_actor)\n",
    "\n",
    "for i in range(10):\n",
    "    executor.submit(sim, i)"
   ]
  }
 ],
 "metadata": {
  "kernelspec": {
   "display_name": "Python 3",
   "language": "python",
   "name": "python3"
  },
  "language_info": {
   "codemirror_mode": {
    "name": "ipython",
    "version": 3
   },
   "file_extension": ".py",
   "mimetype": "text/x-python",
   "name": "python",
   "nbconvert_exporter": "python",
   "pygments_lexer": "ipython3",
   "version": "3.6.6"
  }
 },
 "nbformat": 4,
 "nbformat_minor": 2
}
